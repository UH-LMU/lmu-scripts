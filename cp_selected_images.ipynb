{
 "cells": [
  {
   "cell_type": "markdown",
   "metadata": {},
   "source": [
    "## Plot selected CellProfiler measurements for selected images"
   ]
  },
  {
   "cell_type": "code",
   "execution_count": 53,
   "metadata": {},
   "outputs": [
    {
     "data": {
      "image/png": "[encoded data removed]",
      "text/plain": [
       "<Figure size 432x288 with 2 Axes>"
      ]
     },
     "metadata": {},
     "output_type": "display_data"
    }
   ],
   "source": [
    "import matplotlib.pyplot as plt\n",
    "import os\n",
    "import pandas as pd\n",
    "\n",
    "workdir = \"/home/hajaalin/tmp\"\n",
    "filename = \"imagingcourse_CP300_Cells.csv\"\n",
    "basename, extension = os.path.splitext(filename)\n",
    "\n",
    "df = pd.read_csv(os.path.join(workdir, filename))\n",
    "\n",
    "# These are the columns that will be kept\n",
    "measurements = ['AreaShape_Area', 'AreaShape_Perimeter']\n",
    "keep_cols = ['ImageNumber', 'Metadata_Plate']\n",
    "keep_cols.extend(measurements)\n",
    "\n",
    "drop_cols = [k for k in list(df.columns.values) if not k in keep_cols]\n",
    "df.drop(drop_cols, axis=1, inplace=True)\n",
    "\n",
    "# These are the image numbers we are interested in, grouped by visual inspection for example\n",
    "image_groups = (('plate1', [1,2,3,5,8], 'group1'), \\\n",
    "                ('plate1', [13,21,34], 'group2'), \\\n",
    "                ('plate1', [55,89,144], 'group3'))\n",
    "\n",
    "# add Group column\n",
    "df['Group'] = 'None'\n",
    "for ig in image_groups:\n",
    "    #print(ig)\n",
    "    df.loc[(df['Metadata_Plate'] == ig[0]) & (df.ImageNumber.isin(ig[1])), 'Group'] = ig[2]\n",
    "df = df[(df.Group != 'None')]\n",
    "\n",
    "df.head()\n",
    "\n",
    "fig = plt.figure()\n",
    "i=1\n",
    "for m in measurements:\n",
    "    ax = fig.add_subplot(len(measurements), 1, i, ylabel = m)\n",
    "    g = []\n",
    "    l = []\n",
    "    for ig in image_groups: \n",
    "        g.append(df[df['Group']==ig[2]][m])\n",
    "        l.append(ig[2])\n",
    "    ax.boxplot(g, notch = True, labels=l);\n",
    "    i = i+1\n",
    "\n",
    "outputFilename = basename + \"_selected_images\" + extension\n",
    "df.to_csv(os.path.join(workdir, outputFilename), index=False)\n"
   ]
  },
  {
   "cell_type": "markdown",
   "metadata": {},
   "source": [
    "## Calculate per-image averages of the selected measurements and write to csv"
   ]
  },
  {
   "cell_type": "code",
   "execution_count": 54,
   "metadata": {},
   "outputs": [],
   "source": [
    "# columns to group the results by\n",
    "group_cols = ['Metadata_Plate', 'ImageNumber']\n",
    "\n",
    "# exclude these from averaging\n",
    "exclude_cols = ['ImageNumber', 'ObjectNumber', 'Metadata_']\n",
    "\n",
    "# the list of measurements we want to average\n",
    "measurements = [k for k in list(df.columns.values) if not k.startswith(tuple(exclude_cols))]\n",
    "\n",
    "# https://stackoverflow.com/questions/35401691/groupby-and-calculate-mean-but-keeping-all-columns\n",
    "\n",
    "# create a new DataFrame with a MultiIndex consisting of the group_cols\n",
    "# and a column for the mean of each column in metric_cols\n",
    "aggs = df.groupby(group_cols)[measurements].mean()\n",
    "# remove the metric_cols from df because we are going to replace them\n",
    "# with the means in aggs\n",
    "df.drop(measurements, axis=1, inplace=True)\n",
    "# dedupe to leave only one row with each combination of group_cols\n",
    "# in df\n",
    "df.drop_duplicates(subset=group_cols, keep='last', inplace=True)\n",
    "# add the mean columns from aggs into df\n",
    "df = df.merge(right=aggs, right_index=True, left_on=group_cols, how='right')\n",
    "\n",
    "outputFilename = basename + \"_selected_images_avg\" + extension\n",
    "df.to_csv(os.path.join(workdir, outputFilename), index=False)\n",
    "\n",
    "\n"
   ]
  },
  {
   "cell_type": "code",
   "execution_count": null,
   "metadata": {},
   "outputs": [],
   "source": []
  }
 ],
 "metadata": {
  "celltoolbar": "Raw Cell Format",
  "kernelspec": {
   "display_name": "Python 3",
   "language": "python",
   "name": "python3"
  },
  "language_info": {
   "codemirror_mode": {
    "name": "ipython",
    "version": 3
   },
   "file_extension": ".py",
   "mimetype": "text/x-python",
   "name": "python",
   "nbconvert_exporter": "python",
   "pygments_lexer": "ipython3",
   "version": "3.6.5"
  }
 },
 "nbformat": 4,
 "nbformat_minor": 2
}
